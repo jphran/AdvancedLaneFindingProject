{
 "cells": [
  {
   "cell_type": "code",
   "execution_count": 7,
   "metadata": {},
   "outputs": [
    {
     "data": {
      "text/plain": [
       "<matplotlib.image.AxesImage at 0x7f528c0342e0>"
      ]
     },
     "execution_count": 7,
     "metadata": {},
     "output_type": "execute_result"
    }
   ],
   "source": [
    "import cv2\n",
    "import numpy as np\n",
    "import matplotlib.pyplot as plt\n",
    "%matplotlib qt\n",
    "\n",
    "img = cv2.imread('./test_images/straight_lines1.jpg')\n",
    "xSize = img.shape[1]\n",
    "ySize = img.shape[0]\n",
    "\n",
    "src = np.array([[(0, ySize), (xSize, ySize), (xSize / 2 + (xSize / 20), ySize / 2 + (ySize / 10)), (xSize / 2 - (xSize / 20), ySize / 2 + (ySize / 10))]], dtype=np.float32)\n",
    "dst = np.array([[(0, ySize), (xSize, ySize), (xSize, 0), (0, 0)]], dtype=np.float32)\n",
    "\n",
    "M = cv2.getPerspectiveTransform(src, dst)\n",
    "\n",
    "warpedImg = cv2.warpPerspective(img, M, img.shape[1::-1], flags=cv2.INTER_LINEAR)\n",
    "\n",
    "f, (ax1, ax2) = plt.subplots(1,2)\n",
    "f.tight_layout()\n",
    "\n",
    "ax1.imshow(img)\n",
    "ax2.imshow(warpedImg)"
   ]
  },
  {
   "cell_type": "code",
   "execution_count": null,
   "metadata": {},
   "outputs": [],
   "source": []
  }
 ],
 "metadata": {
  "kernelspec": {
   "display_name": "Python 3",
   "language": "python",
   "name": "python3"
  },
  "language_info": {
   "codemirror_mode": {
    "name": "ipython",
    "version": 3
   },
   "file_extension": ".py",
   "mimetype": "text/x-python",
   "name": "python",
   "nbconvert_exporter": "python",
   "pygments_lexer": "ipython3",
   "version": "3.8.5"
  }
 },
 "nbformat": 4,
 "nbformat_minor": 4
}
